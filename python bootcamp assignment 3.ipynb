{
  "cells": [
    {
      "cell_type": "markdown",
      "metadata": {
        "id": "8WbUJEVzs8Bx"
      },
      "source": [
        "## <u>While doing this assignment only use those concepts which have been taught till now</u>"
      ]
    },
    {
      "cell_type": "markdown",
      "metadata": {
        "id": "KjPWYK0Rs8By"
      },
      "source": [
        "## <u>Problem 1</u>\n",
        "\n",
        "### Another measure of average\n",
        "\n",
        "* Mode is defined as the value that appears most often in a set of data values. Mode corresponds to the most frequent value.\n",
        "* You are given a list of numbers and you need to calculate the mode of this list"
      ]
    },
    {
      "cell_type": "code",
      "execution_count": 14,
      "metadata": {
        "id": "34TbaGurs8Bz"
      },
      "outputs": [],
      "source": [
        "# A list containing average daily temperature over 10 days\n",
        "temperatures = [34, 40, 29, 33, 42, 40, 39, 34, 34,33 ]"
      ]
    },
    {
      "cell_type": "code",
      "execution_count": 17,
      "metadata": {
        "id": "N1Yhpkiws8B3"
      },
      "outputs": [],
      "source": [
        "# Step 1 : Find the unique set of values. Store this in a list\n",
        "unique_temperatures = set(temperatures)\n",
        "unique_temperatures = list(unique_temperatures)\n"
      ]
    },
    {
      "cell_type": "code",
      "execution_count": 18,
      "metadata": {
        "id": "KpMdlB5Fs8B8"
      },
      "outputs": [
        {
          "name": "stdout",
          "output_type": "stream",
          "text": [
            "[33, 34, 39, 40, 42, 29]\n"
          ]
        }
      ],
      "source": [
        "# Print the unique temperature list\n",
        "print(unique_temperatures)"
      ]
    },
    {
      "cell_type": "code",
      "execution_count": 21,
      "metadata": {
        "id": "J7CyJi_Ls8B_"
      },
      "outputs": [
        {
          "name": "stdout",
          "output_type": "stream",
          "text": [
            "{33: 2, 34: 3, 39: 1, 40: 2, 42: 1, 29: 1}\n"
          ]
        }
      ],
      "source": [
        "# Step 2 : Create an empty dictionary which will contain the unique temperatures as keys and their counts in the original temperatures list as values\n",
        "temp_dict = {}\n",
        "for i in unique_temperatures:\n",
        "    temp_dict[i]=None\n",
        "for i in temperatures:\n",
        "    temp_dict[i]=temperatures.count(i)\n",
        "print(temp_dict)\n",
        "\n",
        "# Set the values for each key separately\n",
        "# First key\n",
        "\n",
        "\n",
        "\n",
        "# Second key\n",
        "\n",
        "\n",
        "\n",
        "# Third key\n",
        "\n",
        "\n",
        "\n",
        "# Fourth key\n",
        "\n",
        "\n",
        "\n",
        "# Fifth key\n",
        "\n",
        "\n",
        "\n",
        "# Sixth key\n"
      ]
    },
    {
      "cell_type": "code",
      "execution_count": 26,
      "metadata": {
        "id": "4-ZxbmMxtWfQ"
      },
      "outputs": [
        {
          "name": "stdout",
          "output_type": "stream",
          "text": [
            "1\n"
          ]
        }
      ],
      "source": [
        "# Step 3: Store the dictionary values in a list\n",
        "temp_dict_frequencies = list(temp_dict.values())\n",
        "\n",
        "# Print the list of dictionary values\n",
        "\n",
        "# Find the index of the most frequent temperature value\n",
        "most_frequent_temp_index = temp_dict_frequencies.index(max(temp_dict_frequencies))\n",
        "print(most_frequent_temp_index)\n",
        "\n",
        "# Print the index\n"
      ]
    },
    {
      "cell_type": "code",
      "execution_count": 29,
      "metadata": {
        "id": "riu9mZhcwBY6"
      },
      "outputs": [
        {
          "name": "stdout",
          "output_type": "stream",
          "text": [
            "[33, 34, 39, 40, 42, 29]\n",
            "42\n"
          ]
        }
      ],
      "source": [
        "# Step 4 : Create the list of dictionary keys\n",
        "temp_dict_keys = list(temp_dict.keys())\n",
        "\n",
        "# Print the list of dictionary keys\n",
        "print(temp_dict_keys)\n",
        "\n",
        "# Calculate the mode temperature\n",
        "mode_temp = max(temp_dict_keys)\n",
        "print(mode_temp)"
      ]
    },
    {
      "cell_type": "markdown",
      "metadata": {
        "id": "5qd8g8UUs8CM"
      },
      "source": [
        "## <u>Problem 2 </u>\n",
        "\n",
        "### Challenging the immutability of tuples\n",
        "\n",
        "You are given a list of tuples. You need to replace the last element of the last tuple"
      ]
    },
    {
      "cell_type": "code",
      "execution_count": 1,
      "metadata": {
        "id": "FBJy9Sq_s8CN"
      },
      "outputs": [],
      "source": [
        "# Input list of tuples\n",
        "\n",
        "list_of_tuples = [(10,20,30),(30,40,50),(50,60,70)]\n",
        "\n",
        "\n",
        "# Expected output : Replace the last element 70 with 100\n",
        "# output_list = [(10,20,30),(30,40,50),(50,60,100)]"
      ]
    },
    {
      "cell_type": "code",
      "execution_count": 13,
      "metadata": {
        "id": "UNtYax1as8CR"
      },
      "outputs": [
        {
          "name": "stdout",
          "output_type": "stream",
          "text": [
            "[(10, 20, 30), (30, 40, 50), (50, 60, 100)]\n"
          ]
        }
      ],
      "source": [
        "# Your code here\n",
        "lst=[]\n",
        "for i in list_of_tuples[-1]:\n",
        "        lst.append(i)  \n",
        "lst[-1]=100\n",
        "lst=tuple(lst)\n",
        "list_of_tuples[-1]=lst\n",
        "# Print the output list\n",
        "print(list_of_tuples)\n"
      ]
    },
    {
      "cell_type": "markdown",
      "metadata": {
        "id": "ejRCi-vTs8CU"
      },
      "source": [
        "## <u> Problem 3 </u>\n",
        "\n",
        "Natural Language Processing or NLP is one of the most promising fields in Machine Learning. Most of the times in NLP we deal with the textual data (a bunch of strings). Sometimes when we are processing the text, it is a common practice to get rid of some set of stop words from our original text. By default stop words are very common words used in English language such as and, or, punctuations etc.\n",
        "\n",
        "In this exercise, you are provided with a default set of stop words and you need to add some extra set of custom words."
      ]
    },
    {
      "cell_type": "code",
      "execution_count": 30,
      "metadata": {
        "id": "C5olNuDGs8CU"
      },
      "outputs": [
        {
          "name": "stdout",
          "output_type": "stream",
          "text": [
            "Hello, good morning folks! Today we will announce the half yearly performance results of the company. Due to the ongoing COVID-19 pandemic, our profits have declined by 60% as compared to the last half yearly results\n"
          ]
        }
      ],
      "source": [
        "# A sample sentence\n",
        "\n",
        "sentence = 'Hello, good morning folks! Today we will announce the half yearly performance results of the company. Due to the ongoing COVID-19 pandemic, our profits have declined by 60% as compared to the last half yearly results'\n",
        "\n",
        "# Print your sentence\n",
        "print(sentence)"
      ]
    },
    {
      "cell_type": "code",
      "execution_count": 45,
      "metadata": {
        "id": "B4afm8gCs8CY"
      },
      "outputs": [],
      "source": [
        "# Default set of stop words\n",
        "stop_words = {\"i\", \"me\", \"my\", \"myself\", \"we\", \"our\", \"ours\", \"ourselves\", \"you\", \"your\", \"yours\", \"yourself\",\n",
        "              \"yourselves\", \"he\", \"him\", \"his\", \"himself\", \"she\", \"her\", \"hers\", \"herself\", \"it\", \"its\", \"itself\",\n",
        "              \"they\", \"them\", \"their\", \"theirs\", \"themselves\", \"what\", \"which\", \"who\", \"whom\", \"this\", \"that\",\n",
        "              \"these\", \"those\", \"am\", \"is\", \"are\", \"was\", \"were\", \"be\", \"been\", \"being\", \"have\", \"has\", \"had\",\n",
        "              \"having\", \"do\", \"does\", \"did\", \"doing\", \"a\", \"an\", \"the\", \"and\", \"but\", \"if\", \"or\", \"because\",\n",
        "              \"as\", \"until\", \"while\", \"of\", \"at\", \"by\", \"for\", \"with\", \"about\", \"against\", \"between\", \"into\",\n",
        "              \"through\", \"during\", \"before\", \"after\", \"above\", \"below\", \"to\", \"from\", \"up\", \"down\", \"in\", \"out\",\n",
        "              \"on\", \"off\", \"over\", \"under\", \"again\", \"further\", \"then\", \"once\", \"here\", \"there\", \"when\", \"where\",\n",
        "              \"why\", \"how\", \"all\", \"any\", \"both\", \"each\", \"few\", \"more\", \"most\", \"other\", \"some\", \"such\", \"no\",\n",
        "              \"nor\", \"not\", \"only\", \"own\", \"same\", \"so\", \"than\", \"too\", \"very\", \"s\", \"t\", \"can\", \"will\", \"just\",\n",
        "              \"don\", \"should\", \"now\"}\n"
      ]
    },
    {
      "cell_type": "code",
      "execution_count": 46,
      "metadata": {
        "id": "evgHHnRks8Cc"
      },
      "outputs": [
        {
          "name": "stdout",
          "output_type": "stream",
          "text": [
            "{'should', 'does', 'there', 'in', 'herself', 'my', 'whom', 'who', 'yours', 'then', 'their', 'into', 'good', 'same', 'doing', 'few', 'only', 'was', 'our', 'did', 'them', 'after', 'about', 'under', 'be', 'against', 'when', 't', 'how', 'will', 'but', 'were', 'an', 'being', 'each', 'him', 'while', 'they', 'to', 'above', 'here', 'too', 'me', 'which', 'had', 'until', 'myself', 'what', 'and', 'half', 'some', 'once', 'for', 'again', 'his', 'hers', 'itself', 'of', 'from', 'through', 'out', 'ourselves', 'so', 'don', 'we', 'am', 'morning', 'i', 'where', 'her', 'is', 'on', 'a', 'any', 'by', 'own', 'such', 'this', 'off', 'during', 'as', 'all', 'these', 'do', 'very', 'down', 'himself', 'have', 'hello', 'those', 'below', 'just', 'why', 'no', 'nor', 'with', 'theirs', 'having', 'it', 'between', 'because', 'more', 'been', 'or', 'yourself', 'its', 'now', 'are', 'than', 'you', 'both', 'can', 'most', 'themselves', 'if', 'at', 'up', 'your', 'the', 'that', 'yourselves', 'other', 'ours', 'over', 's', 'not', 'he', 'has', 'before', 'she', 'further', 'yearly'}\n"
          ]
        }
      ],
      "source": [
        "# Update the set of stop words by adding the custom stop words\n",
        "custom_stop_words = [\"hello\",\"good\",\"morning\",\"half\",\"yearly\"]\n",
        "\n",
        "# Your code here\n",
        "custom_stop_words=set(custom_stop_words)\n",
        "stop_words=stop_words.union(custom_stop_words)\n",
        "\n",
        "# Print the updated stop words\n",
        "print(stop_words)"
      ]
    },
    {
      "cell_type": "code",
      "execution_count": 48,
      "metadata": {
        "id": "1QbZrotrtIE3"
      },
      "outputs": [
        {
          "name": "stdout",
          "output_type": "stream",
          "text": [
            "['should', 'does', 'there', 'in', 'herself', 'my', 'whom', 'who', 'yours', 'then', 'their', 'into', 'good', 'same', 'doing', 'few', 'only', 'was', 'our', 'did', 'them', 'after', 'about', 'under', 'be', 'against', 'when', 't', 'how', 'will', 'but', 'were', 'an', 'being', 'each', 'him', 'while', 'they', 'to', 'above', 'here', 'too', 'me', 'which', 'had', 'until', 'myself', 'what', 'and', 'half', 'some', 'once', 'for', 'again', 'his', 'hers', 'itself', 'of', 'from', 'through', 'out', 'ourselves', 'so', 'don', 'we', 'am', 'morning', 'i', 'where', 'her', 'is', 'on', 'a', 'any', 'by', 'own', 'such', 'this', 'off', 'during', 'as', 'all', 'these', 'do', 'very', 'down', 'himself', 'have', 'hello', 'those', 'below', 'just', 'why', 'no', 'nor', 'with', 'theirs', 'having', 'it', 'between', 'because', 'more', 'been', 'or', 'yourself', 'its', 'now', 'are', 'than', 'you', 'both', 'can', 'most', 'themselves', 'if', 'at', 'up', 'your', 'the', 'that', 'yourselves', 'other', 'ours', 'over', 's', 'not', 'he', 'has', 'before', 'she', 'further', 'yearly', 'hello', 'half', 'good', 'morning', 'yearly']\n"
          ]
        }
      ],
      "source": [
        "# Do the same task another way. Keep in mind to use the original set of stop_words for this piece of code\n",
        "stop_words=list(stop_words)\n",
        "custom_stop_words=list(custom_stop_words)\n",
        "stop_words=stop_words+custom_stop_words\n",
        "\n",
        "\n",
        "# Print the updated stop words\n",
        "print(stop_words)"
      ]
    },
    {
      "cell_type": "markdown",
      "metadata": {
        "id": "P1rOYC8Is8Cf"
      },
      "source": [
        "## <u>Problem 4</u>\n",
        "\n",
        " Write a Python script to check whether a given key already exists in a dictionary. If it does, drop that key from the dictionary. If it does not, add that key and corresponding value to the dictionary"
      ]
    },
    {
      "cell_type": "code",
      "execution_count": 55,
      "metadata": {
        "id": "ySeGyCtCs8Cg"
      },
      "outputs": [],
      "source": [
        "# Your dictionary\n",
        "employee_dict = {'Name':'Sanket','Skills':['Python','Machine Learning','Deep Learning'],'Band':6.0,\n",
        "                 'Promotion Year':[2016,2018,2020]}"
      ]
    },
    {
      "cell_type": "code",
      "execution_count": 56,
      "metadata": {
        "id": "MI7mOHaqs8Cj"
      },
      "outputs": [
        {
          "name": "stdout",
          "output_type": "stream",
          "text": [
            "{'Name': 'Sanket', 'Skills': ['Python', 'Machine Learning', 'Deep Learning'], 'Band': 6.0, 'Promotion Year': [2016, 2018, 2020], 'Employee_ID': 4503233}\n"
          ]
        }
      ],
      "source": [
        "# Check if the key 'Employee_ID' is present in the dictionary. Hint : use a boolean variable to store this value\n",
        "if 'Employee_ID' not in employee_dict.keys():\n",
        "    employee_dict['Employee_ID']=4503233\n",
        "# If not present add this key to this dictionary and the corresponding value to be 4503233\n",
        "else:\n",
        "    del employee_dict['Employee_id']\n",
        "print(employee_dict)\n",
        "    "
      ]
    },
    {
      "cell_type": "code",
      "execution_count": 57,
      "metadata": {
        "id": "ARPbZfY8s8Co"
      },
      "outputs": [
        {
          "name": "stdout",
          "output_type": "stream",
          "text": [
            "{'Name': 'Sanket', 'Skills': ['Python', 'Machine Learning', 'Deep Learning'], 'Promotion Year': [2016, 2018, 2020], 'Employee_ID': 4503233}\n"
          ]
        }
      ],
      "source": [
        "# Check if the key 'Band' is present in the dictionary.\n",
        "if 'Band' not in employee_dict.keys():\n",
        "    employee_dict['Band']=6.0\n",
        "else:\n",
        "    del employee_dict['Band']\n",
        "print(employee_dict)\n",
        "\n",
        "# If present, drop this key from the dictionary\n"
      ]
    },
    {
      "cell_type": "code",
      "execution_count": 58,
      "metadata": {
        "id": "lUDbbyXmulzh"
      },
      "outputs": [
        {
          "name": "stdout",
          "output_type": "stream",
          "text": [
            "{'Name': 'Sanket', 'Skills': ['Python', 'Machine Learning', 'Deep Learning'], 'Promotion Year': [2016, 2018, 2020], 'Employee_ID': 4503233}\n"
          ]
        }
      ],
      "source": [
        "# Print the updated dictionary\n",
        "print(employee_dict)"
      ]
    }
  ],
  "metadata": {
    "colab": {
      "provenance": []
    },
    "kernelspec": {
      "display_name": "Python 3",
      "language": "python",
      "name": "python3"
    },
    "language_info": {
      "codemirror_mode": {
        "name": "ipython",
        "version": 3
      },
      "file_extension": ".py",
      "mimetype": "text/x-python",
      "name": "python",
      "nbconvert_exporter": "python",
      "pygments_lexer": "ipython3",
      "version": "3.11.4"
    }
  },
  "nbformat": 4,
  "nbformat_minor": 0
}

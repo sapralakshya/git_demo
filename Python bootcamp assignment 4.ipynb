{
  "cells": [
    {
      "cell_type": "markdown",
      "metadata": {
        "id": "8WbUJEVzs8Bx"
      },
      "source": [
        "## <u>While doing this assignment only use those concepts which have been taught till now</u>"
      ]
    },
    {
      "cell_type": "markdown",
      "metadata": {
        "id": "KjPWYK0Rs8By"
      },
      "source": [
        "## <u>Problem 1</u>\n",
        "\n",
        "### As an analyst, you had to present the quarterly performance results of your client. The data which you were provided was on daily basis. To complete this task, you needed to extract the quarter from a given date. For example:\n",
        "\n",
        "* if the date lies between 1st Jan, 2020 - 31st March, 2020, you need to extract the corresponding quarter as '2020-Q1'\n",
        "\n",
        "* if the date lies between 1st April, 2020 - 30th June, 2020, the extracted quarter will be '2020-Q2'\n",
        "\n",
        "* if the date lies between 1st July, 2020 - 30th September, 2020, the extracted quarter will be '2020-Q3'\n",
        "\n",
        "* if the date lies between 1st October, 2020 - 31st Decemeber, 2020 then the extracted quarter will be '2020-Q4'\n"
      ]
    },
    {
      "cell_type": "code",
      "execution_count": 16,
      "metadata": {
        "id": "RxVZTrenzfHC"
      },
      "outputs": [],
      "source": [
        "# Take a proper date input from the user in the format YYYY-MM-DD. Consider this date as a string\n",
        "user_date = input()"
      ]
    },
    {
      "cell_type": "code",
      "execution_count": 17,
      "metadata": {
        "id": "N1Yhpkiws8B3"
      },
      "outputs": [],
      "source": [
        "# Write your code using if else statements to extract the quarter\n",
        "quarter=''\n",
        "if user_date>='2020-01-01' and user_date<='2020-03-31':\n",
        "    quarter='2020-Q1'\n",
        "elif user_date>='2020-04-01' and user_date<='2020-06-30':\n",
        "    quarter='2020-Q2'\n",
        "elif user_date>='2020-07-01' and user_date<='2020-09-30':\n",
        "    quarter='2020-Q3'\n",
        "elif user_date>='2020-10-01' and user_date<='2020-12-31':\n",
        "    quarter='2020-Q4'\n",
        "else:\n",
        "    quarter='Invalid'\n",
        "\n",
        "\n",
        "# Store the quarter value in a string variable named quarter\n"
      ]
    },
    {
      "cell_type": "code",
      "execution_count": 18,
      "metadata": {
        "id": "KpMdlB5Fs8B8"
      },
      "outputs": [
        {
          "name": "stdout",
          "output_type": "stream",
          "text": [
            "2020-Q4\n"
          ]
        }
      ],
      "source": [
        "# Print the extracted quarter\n",
        "print(quarter)"
      ]
    },
    {
      "cell_type": "markdown",
      "metadata": {
        "id": "5qd8g8UUs8CM"
      },
      "source": [
        "## <u>Problem 2 </u>\n",
        "\n",
        "* You went out in your local neighbourhood to collect the data of people residing in the locale. You surveyed 5 people and collected some data and stored that in a dictionary. You recorded their names, their age, their sex, their heights(in cms) and their weights(in kgs)"
      ]
    },
    {
      "cell_type": "code",
      "execution_count": 28,
      "metadata": {
        "id": "FBJy9Sq_s8CN"
      },
      "outputs": [],
      "source": [
        "# Surveyed data\n",
        "import math\n",
        "locality_data = {'Name' : ['Abhinav','Sohail','Dheeraj','Rashmi','Vaishali'],\n",
        "                  'Age' : [42,29,35,28,32],\n",
        "                  'Sex' : ['Male', 'Male','Male','Female','Female'] ,\n",
        "                  'Height' : [172,175,170,168,170],\n",
        "                  'Weight' : [70,82,60,55,64]\n",
        "                 }"
      ]
    },
    {
      "cell_type": "markdown",
      "metadata": {
        "id": "2_rBSgqz5Ums"
      },
      "source": [
        "* Find the mean and median heights and weights of the people in your locality"
      ]
    },
    {
      "cell_type": "code",
      "execution_count": 29,
      "metadata": {
        "id": "zywXa51d6Eev"
      },
      "outputs": [
        {
          "name": "stdout",
          "output_type": "stream",
          "text": [
            "171.0\n",
            "170\n",
            "66.2\n",
            "170\n"
          ]
        }
      ],
      "source": [
        "# Calculate the mean height and print it\n",
        "sum=0\n",
        "cnt=0\n",
        "for i in locality_data['Height']:\n",
        "    sum+=i\n",
        "    cnt+=1\n",
        "mean=sum/cnt\n",
        "print(mean)\n",
        "\n",
        "# Calculate the median height and print it\n",
        "sorted_heights=sorted(locality_data['Height'])\n",
        "median=0\n",
        "if cnt%2==0:\n",
        "    median=(sorted_heights[(cnt/2)-1]+sorted_heights[cnt/2])/2\n",
        "else:\n",
        "    median= sorted_heights[math.floor(cnt/2)]\n",
        "print(median)\n",
        "\n",
        "\n",
        "# Calculate the mean weight and print it\n",
        "sum=0\n",
        "cnt=0\n",
        "for i in locality_data['Weight']:\n",
        "    sum+=i\n",
        "    cnt+=1\n",
        "mean=sum/cnt\n",
        "print(mean)\n",
        "\n",
        "\n",
        "# Calculate the median weight and print it\n",
        "sorted_weights=sorted(locality_data['Weight'])\n",
        "median=0\n",
        "if cnt%2==0:\n",
        "    median=(sorted_weights[(cnt/2)-1]+sorted_heights[cnt/2])/2\n",
        "else:\n",
        "    median= sorted_heights[math.floor(cnt/2)]\n",
        "print(median)\n",
        "\n"
      ]
    },
    {
      "cell_type": "markdown",
      "metadata": {
        "id": "yLb5awgPQeYA"
      },
      "source": [
        "* Write a Python code to print the first three elements from the list of age values corresponding to the key 'Age'"
      ]
    },
    {
      "cell_type": "code",
      "execution_count": 34,
      "metadata": {
        "id": "wef2fVgx6Gji"
      },
      "outputs": [
        {
          "name": "stdout",
          "output_type": "stream",
          "text": [
            "[42, 29, 35]\n"
          ]
        }
      ],
      "source": [
        "# Python code to print the first three elements for the key 'Age'\n",
        "\n",
        "ages=[]\n",
        "c=0\n",
        "for i in locality_data['Age']:\n",
        "    if c<3:\n",
        "        ages.append(i)\n",
        "        c+=1\n",
        "print(ages)"
      ]
    },
    {
      "cell_type": "markdown",
      "metadata": {
        "id": "NGrZaqulRIM1"
      },
      "source": [
        "* Write a Python code to print the last two elements of the name list if the list of values corresponding to the key 'Name' contains the element 'Rashmi' else print 'Name not found'"
      ]
    },
    {
      "cell_type": "code",
      "execution_count": 40,
      "metadata": {
        "id": "TBRZzwAcRTNL"
      },
      "outputs": [
        {
          "name": "stdout",
          "output_type": "stream",
          "text": [
            "['Vaishali', 'Rashmi']\n"
          ]
        }
      ],
      "source": [
        "# Your code below\n",
        "names=locality_data['Name']\n",
        "if 'Rashmi' in names:\n",
        "    print(names[:2:-1])\n",
        "        \n",
        "\n",
        "\n",
        "\n"
      ]
    },
    {
      "cell_type": "markdown",
      "metadata": {
        "id": "ejRCi-vTs8CU"
      },
      "source": [
        "## <u> Problem 3 </u>\n",
        "\n",
        "A student will not be allowed to sit in exam if his/her attendence is less than 75%.\n",
        "\n",
        "Take following input from user\n",
        "* Number of classes held\n",
        "* Number of classes attended."
      ]
    },
    {
      "cell_type": "code",
      "execution_count": 41,
      "metadata": {
        "id": "C5olNuDGs8CU"
      },
      "outputs": [
        {
          "name": "stdout",
          "output_type": "stream",
          "text": [
            "Number of classes held\n",
            "Number of classes attended\n"
          ]
        }
      ],
      "source": [
        "# Enter your input\n",
        "\n",
        "print(\"Number of classes held\")\n",
        "classes_held = int(input())\n",
        "\n",
        "print(\"Number of classes attended\")\n",
        "classes_attended = int(input())"
      ]
    },
    {
      "cell_type": "code",
      "execution_count": 42,
      "metadata": {
        "id": "i553Hqamm2jR"
      },
      "outputs": [
        {
          "name": "stdout",
          "output_type": "stream",
          "text": [
            "The attendance is 78.0\n"
          ]
        }
      ],
      "source": [
        "# Calculate the attendance percentage\n",
        "attendance = classes_attended*100/classes_held\n",
        "\n",
        "print(f'The attendance is {attendance}')"
      ]
    },
    {
      "cell_type": "markdown",
      "metadata": {
        "id": "QYDpXSANnKxV"
      },
      "source": [
        "And print the following statements based on the condition above\n",
        "\n",
        "* percentage of class attended\n",
        "* Is student is allowed to sit in exam or not."
      ]
    },
    {
      "cell_type": "code",
      "execution_count": 43,
      "metadata": {
        "id": "SoQ3P0yym2ts"
      },
      "outputs": [
        {
          "name": "stdout",
          "output_type": "stream",
          "text": [
            "Allowed\n"
          ]
        }
      ],
      "source": [
        "# Your code here\n",
        "if attendance>75:\n",
        "    print(\"Allowed\")\n",
        "else:\n",
        "    print(\"Not Allowed\")\n"
      ]
    },
    {
      "cell_type": "markdown",
      "metadata": {
        "id": "P1rOYC8Is8Cf"
      },
      "source": [
        "## <u>Problem 4</u>\n",
        "\n",
        "### A school has following rules for grading system:\n",
        "* Below 25 - F\n",
        "* 25 to 45 - E\n",
        "* 45 to 50 - D\n",
        "* 50 to 60 - C\n",
        "* 60 to 80 - B\n",
        "* Above 80 - A\n",
        "\n",
        "Keep the left number inclusive and the right number exclusive, something like [25,45) for grade E where the set is closed at 25 and open at 45.\n",
        "\n",
        "Write a Python code which takes marks as inputs from the user and print the corresponding grade."
      ]
    },
    {
      "cell_type": "code",
      "execution_count": 44,
      "metadata": {
        "id": "ySeGyCtCs8Cg"
      },
      "outputs": [
        {
          "name": "stdout",
          "output_type": "stream",
          "text": [
            "Enter your marks\n"
          ]
        }
      ],
      "source": [
        "# Your input here\n",
        "print(\"Enter your marks\")\n",
        "marks = int(input())"
      ]
    },
    {
      "cell_type": "code",
      "execution_count": 45,
      "metadata": {
        "id": "MI7mOHaqs8Cj"
      },
      "outputs": [
        {
          "name": "stdout",
          "output_type": "stream",
          "text": [
            "B\n"
          ]
        }
      ],
      "source": [
        "# Your code here to print the corresponding grade\n",
        "if marks>=25 and marks<45:\n",
        "    print(\"F\")\n",
        "elif marks>=45 and marks<50:\n",
        "    print(\"D\")\n",
        "elif marks>=50 and marks<60:\n",
        "    print(\"C\")\n",
        "elif marks>=60 and marks<80:\n",
        "    print(\"B\")\n",
        "else:\n",
        "    print(\"A\")\n",
        "\n",
        "\n",
        "\n",
        "\n",
        "\n",
        "\n",
        "\n",
        "\n",
        "\n",
        "\n"
      ]
    }
  ],
  "metadata": {
    "colab": {
      "provenance": []
    },
    "kernelspec": {
      "display_name": "Python 3",
      "language": "python",
      "name": "python3"
    },
    "language_info": {
      "codemirror_mode": {
        "name": "ipython",
        "version": 3
      },
      "file_extension": ".py",
      "mimetype": "text/x-python",
      "name": "python",
      "nbconvert_exporter": "python",
      "pygments_lexer": "ipython3",
      "version": "3.11.4"
    }
  },
  "nbformat": 4,
  "nbformat_minor": 0
}

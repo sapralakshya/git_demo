{
  "cells": [
    {
      "cell_type": "markdown",
      "metadata": {
        "id": "t4O7WDUFjkFq"
      },
      "source": [
        "## <u>While doing this assignment only use those concepts which have been taught till now</u>"
      ]
    },
    {
      "cell_type": "markdown",
      "metadata": {
        "id": "KB9ZI2xAjkF6"
      },
      "source": [
        "## <u>Problem 1</u>\n",
        "\n",
        "A list contains the average daily temperature(in degree Celsius) of a city over a particular week. Write a Python code to swap the highest and the lowest temperatures"
      ]
    },
    {
      "cell_type": "code",
      "execution_count": 2,
      "metadata": {
        "id": "O3ZtUcxsjkF7"
      },
      "outputs": [],
      "source": [
        "# A list containing average daily temperature over a week\n",
        "temperatures = [34, 40, 29, 33, 42, 37, 39 ]\n",
        "\n",
        "# The expected output\n",
        "# output_temperatures = [34, 40, 42, 33, 29, 37, 39]"
      ]
    },
    {
      "cell_type": "code",
      "execution_count": 3,
      "metadata": {
        "id": "HRFHv7OXjkGR"
      },
      "outputs": [],
      "source": [
        "# Store the highest temperature\n",
        "max_temp = max(temperatures)\n",
        "\n",
        "# Index of the element with the highest temperature\n",
        "max_temp_index = temperatures.index(max_temp)"
      ]
    },
    {
      "cell_type": "code",
      "execution_count": 4,
      "metadata": {
        "id": "8lsfVKbcjkGW"
      },
      "outputs": [],
      "source": [
        "# Store the lowest temperature\n",
        "min_temp = min(temperatures)\n",
        "# Index of the element with the lowest temperature\n",
        "min_temp_index = temperatures.index(min_temp)"
      ]
    },
    {
      "cell_type": "code",
      "execution_count": 5,
      "metadata": {
        "id": "W8UkX2IHjkGc"
      },
      "outputs": [],
      "source": [
        "# Swap the highest and the lowest temperatures\n",
        "temperatures[max_temp_index],temperatures[min_temp_index]=temperatures[min_temp_index],temperatures[max_temp_index]\n"
      ]
    },
    {
      "cell_type": "code",
      "execution_count": 6,
      "metadata": {
        "id": "2UpeOQ7qjkGg"
      },
      "outputs": [
        {
          "name": "stdout",
          "output_type": "stream",
          "text": [
            "[34, 40, 42, 33, 29, 37, 39]\n"
          ]
        }
      ],
      "source": [
        "# Print the output list\n",
        "print(temperatures)"
      ]
    },
    {
      "cell_type": "markdown",
      "metadata": {
        "id": "zxqe73yrjkGi"
      },
      "source": [
        "\n",
        "## <u>Problem 2 </u>\n",
        "\n",
        "### Measures of Averages\n",
        "\n",
        "* Mean of a group is defined as the sum of the elements in the group divided by the number of elements in the group.\n",
        "* Median is the middle number in a <b>sorted</b>, ascending or descending, list of numbers. If the list has $N$ numbers where $N$ is odd, then median is the element in the middle i.e, $(\\frac{N+1}{2})^{th}$ element. If $N$ is even, then median is the mean of $(\\frac{N}{2})^{th}$ and $(\\frac{N}{2}+1)^{th}$ elements"
      ]
    },
    {
      "cell_type": "code",
      "execution_count": 12,
      "metadata": {
        "id": "TNWp2uyVjkGi"
      },
      "outputs": [],
      "source": [
        "# List of product prices\n",
        "import math\n",
        "prod_price_list = [400, 250, 800, 550, 600, 820, 720, 15000, 360,250]"
      ]
    },
    {
      "cell_type": "code",
      "execution_count": 8,
      "metadata": {
        "id": "KwenpH43jkGm"
      },
      "outputs": [
        {
          "name": "stdout",
          "output_type": "stream",
          "text": [
            "1975.0\n"
          ]
        }
      ],
      "source": [
        "# Calculate the mean of the product prices. Use list functions. Also print the mean_price\n",
        "sum=0\n",
        "cnt=0\n",
        "for i in prod_price_list:\n",
        "    sum+=i\n",
        "    cnt+=1\n",
        "mean_price = round((sum/cnt),2)\n",
        "print(mean_price)"
      ]
    },
    {
      "cell_type": "markdown",
      "metadata": {
        "id": "gTojysiqjkGr"
      },
      "source": [
        "### Calculate the median price"
      ]
    },
    {
      "cell_type": "code",
      "execution_count": 9,
      "metadata": {
        "id": "5SBpWBGEjkGr"
      },
      "outputs": [],
      "source": [
        "# Step 1 - Obtain the sorted list. Print the sorted_prices\n",
        "sorted_prices = sorted(prod_price_list)"
      ]
    },
    {
      "cell_type": "code",
      "execution_count": 10,
      "metadata": {
        "id": "29eoJETXjkGu"
      },
      "outputs": [],
      "source": [
        "# Check if the number of elements in the list is even or odd\n",
        "num_of_list=\"\"\n",
        "if cnt/2==0:\n",
        "    num_of_list=\"even\"\n",
        "else:\n",
        "    num_of_list=\"odd\""
      ]
    },
    {
      "cell_type": "code",
      "execution_count": 13,
      "metadata": {
        "id": "RiafM7R_jkGy"
      },
      "outputs": [
        {
          "name": "stdout",
          "output_type": "stream",
          "text": [
            "600\n"
          ]
        }
      ],
      "source": [
        "# Use the corresponding formula to calculate the median and print the median\n",
        "if num_of_list==\"even\":\n",
        "    median_price = sorted_prices[(cnt/2)-1]+sorted_prices[(cnt/2)]\n",
        "else:\n",
        "    median_price = sorted_prices[math.ceil(cnt/2)]\n",
        "print(median_price)\n",
        "\n"
      ]
    },
    {
      "cell_type": "code",
      "execution_count": 14,
      "metadata": {
        "id": "brysk47ojkG0"
      },
      "outputs": [
        {
          "name": "stdout",
          "output_type": "stream",
          "text": [
            "1975.0\n"
          ]
        }
      ],
      "source": [
        "# Check which is greater, mean or median\n",
        "res = max(mean_price,median_price)\n",
        "print(res)"
      ]
    },
    {
      "cell_type": "markdown",
      "metadata": {
        "id": "jB0y0UdbjkG3"
      },
      "source": [
        "### Why do you think that is the case??"
      ]
    },
    {
      "cell_type": "markdown",
      "metadata": {
        "id": "_JguWGM_-_ST"
      },
      "source": [
        "### <u>Write your explanation in this text cell</u>\n",
        "\n",
        "Your explanation :  "
      ]
    },
    {
      "cell_type": "markdown",
      "metadata": {
        "id": "J3x3tmzTjkG3"
      },
      "source": [
        "## <u> Problem 3 </u>\n",
        "\n",
        "Having a nested list sometimes might be a bit problematic. An individual was asked to collect the names of companies in the technology sector. While creating the list, by mistake the last three companies were subsumed in a list as shown below. You are required to get rid of the nesting"
      ]
    },
    {
      "cell_type": "code",
      "execution_count": 15,
      "metadata": {
        "id": "6IbY26WqjkG4"
      },
      "outputs": [],
      "source": [
        "# The list of tech companies curated by the individual\n",
        "tech_companies = ['Qualcomm','Google','Apple',['Nvidia','Cisco','Samsung']]\n",
        "\n",
        "# The final list that we want\n",
        "# correct_tech_companies = ['Qualcomm','Google','Apple','Nvidia','Cisco','Samsung']"
      ]
    },
    {
      "cell_type": "code",
      "execution_count": 31,
      "metadata": {
        "id": "anVH03bTjkG7"
      },
      "outputs": [
        {
          "name": "stdout",
          "output_type": "stream",
          "text": [
            "['Qualcomm', 'Google', 'Apple', 'Nvidia', 'Cisco', 'Samsung']\n"
          ]
        }
      ],
      "source": [
        "# Write your code below\n",
        "def flatten_list(lst):\n",
        "    res=[]\n",
        "    for item in lst:\n",
        "        if isinstance(item,list):\n",
        "            res.extend(flatten_list(item))\n",
        "        else:\n",
        "            res.append(item)\n",
        "    return res\n",
        "correct_tech_companies=flatten_list(tech_companies)\n",
        "print(correct_tech_companies)\n",
        "\n",
        "\n",
        "\n"
      ]
    },
    {
      "cell_type": "code",
      "execution_count": 34,
      "metadata": {
        "id": "BsVsotOGjkG_"
      },
      "outputs": [
        {
          "name": "stdout",
          "output_type": "stream",
          "text": [
            "['Qualcomm', 'Google', 'Apple', ['Nvidia', 'Cisco', 'Samsung']]\n"
          ]
        }
      ],
      "source": [
        "# Do the same task another way\n",
        "\n"
      ]
    }
  ],
  "metadata": {
    "colab": {
      "provenance": []
    },
    "kernelspec": {
      "display_name": "Python 3",
      "language": "python",
      "name": "python3"
    },
    "language_info": {
      "codemirror_mode": {
        "name": "ipython",
        "version": 3
      },
      "file_extension": ".py",
      "mimetype": "text/x-python",
      "name": "python",
      "nbconvert_exporter": "python",
      "pygments_lexer": "ipython3",
      "version": "3.11.4"
    }
  },
  "nbformat": 4,
  "nbformat_minor": 0
}
